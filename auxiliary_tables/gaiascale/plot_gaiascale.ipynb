{
 "cells": [
  {
   "cell_type": "code",
   "execution_count": 1,
   "id": "e37ab3eb-102b-4f05-a00e-a9f9d433e6c1",
   "metadata": {},
   "outputs": [],
   "source": [
    "import pandas as pd\n",
    "import numpy as np\n",
    "from matplotlib import pyplot as plt\n",
    "from scipy.stats import gaussian_kde"
   ]
  },
  {
   "cell_type": "code",
   "execution_count": 2,
   "id": "8f762fdc-8f1c-4c53-b236-0d6fe7d67783",
   "metadata": {},
   "outputs": [],
   "source": [
    "filters = [\"U\", \"F378\", \"F395\", \"F410\", \"F430\", \"G\",\n",
    "           \"F515\", \"R\", \"F660\", \"I\", \"F861\", \"Z\"]\n",
    "\n",
    "filters_colors = {'U': \"#d600a6\",\n",
    "               'F378': \"#c300bc\",\n",
    "               'F395': \"#a700ce\",\n",
    "               'F410': \"#8300de\",\n",
    "               'F430': \"#3e00f3\",\n",
    "               'G': \"#00c1ff\",\n",
    "               'F515': \"#17ff00\",\n",
    "               'R': \"#ff5f00\",\n",
    "               'F660': \"#f80000\",\n",
    "               'I': \"#cb0000\",\n",
    "               'F861': \"#a30000\",\n",
    "               'Z': \"#9b0000\"}\n",
    "\n",
    "filters_alt = {'U': \"u\",\n",
    "               'F378': \"J0378\",\n",
    "               'F395': \"J0395\",\n",
    "               'F410': \"J0410\",\n",
    "               'F430': \"J0430\",\n",
    "               'G': \"g\",\n",
    "               'F515': \"J0515\",\n",
    "               'R': \"r\",\n",
    "               'F660': \"J0660\",\n",
    "               'I': \"i\",\n",
    "               'F861': \"J0861\",\n",
    "               'Z': \"z\"}"
   ]
  },
  {
   "cell_type": "code",
   "execution_count": 3,
   "id": "68c5609a-7fdb-4e15-a85f-31d4b1769a2e",
   "metadata": {},
   "outputs": [
    {
     "data": {
      "text/html": [
       "<div>\n",
       "<style scoped>\n",
       "    .dataframe tbody tr th:only-of-type {\n",
       "        vertical-align: middle;\n",
       "    }\n",
       "\n",
       "    .dataframe tbody tr th {\n",
       "        vertical-align: top;\n",
       "    }\n",
       "\n",
       "    .dataframe thead th {\n",
       "        text-align: right;\n",
       "    }\n",
       "</style>\n",
       "<table border=\"1\" class=\"dataframe\">\n",
       "  <thead>\n",
       "    <tr style=\"text-align: right;\">\n",
       "      <th></th>\n",
       "      <th>Field</th>\n",
       "      <th>ZP_gaiascale</th>\n",
       "    </tr>\n",
       "  </thead>\n",
       "  <tbody>\n",
       "    <tr>\n",
       "      <th>0</th>\n",
       "      <td>STRIPE82-0001</td>\n",
       "      <td>0.011</td>\n",
       "    </tr>\n",
       "    <tr>\n",
       "      <th>1</th>\n",
       "      <td>STRIPE82-0002</td>\n",
       "      <td>0.023</td>\n",
       "    </tr>\n",
       "    <tr>\n",
       "      <th>2</th>\n",
       "      <td>STRIPE82-0003</td>\n",
       "      <td>0.019</td>\n",
       "    </tr>\n",
       "    <tr>\n",
       "      <th>3</th>\n",
       "      <td>STRIPE82-0004</td>\n",
       "      <td>0.010</td>\n",
       "    </tr>\n",
       "    <tr>\n",
       "      <th>4</th>\n",
       "      <td>STRIPE82-0005</td>\n",
       "      <td>0.009</td>\n",
       "    </tr>\n",
       "    <tr>\n",
       "      <th>...</th>\n",
       "      <td>...</td>\n",
       "      <td>...</td>\n",
       "    </tr>\n",
       "    <tr>\n",
       "      <th>1625</th>\n",
       "      <td>SPLUS-d504</td>\n",
       "      <td>-0.072</td>\n",
       "    </tr>\n",
       "    <tr>\n",
       "      <th>1626</th>\n",
       "      <td>SPLUS-d510</td>\n",
       "      <td>-0.066</td>\n",
       "    </tr>\n",
       "    <tr>\n",
       "      <th>1627</th>\n",
       "      <td>SPLUS-d511</td>\n",
       "      <td>-0.077</td>\n",
       "    </tr>\n",
       "    <tr>\n",
       "      <th>1628</th>\n",
       "      <td>SPLUS-d517</td>\n",
       "      <td>-0.066</td>\n",
       "    </tr>\n",
       "    <tr>\n",
       "      <th>1629</th>\n",
       "      <td>SPLUS-d522</td>\n",
       "      <td>-0.060</td>\n",
       "    </tr>\n",
       "  </tbody>\n",
       "</table>\n",
       "<p>1629 rows × 2 columns</p>\n",
       "</div>"
      ],
      "text/plain": [
       "              Field  ZP_gaiascale\n",
       "0     STRIPE82-0001         0.011\n",
       "1     STRIPE82-0002         0.023\n",
       "2     STRIPE82-0003         0.019\n",
       "3     STRIPE82-0004         0.010\n",
       "4     STRIPE82-0005         0.009\n",
       "...             ...           ...\n",
       "1625     SPLUS-d504        -0.072\n",
       "1626     SPLUS-d510        -0.066\n",
       "1627     SPLUS-d511        -0.077\n",
       "1628     SPLUS-d517        -0.066\n",
       "1629     SPLUS-d522        -0.060\n",
       "\n",
       "[1629 rows x 2 columns]"
      ]
     },
     "execution_count": 3,
     "metadata": {},
     "output_type": "execute_result"
    }
   ],
   "source": [
    "gaiascale_data = pd.read_csv(\"iDR4_gaiascale_zp.csv\")\n",
    "gaiascale_data = gaiascale_data[~np.isnan(gaiascale_data['ZP_gaiascale'])]\n",
    "\n",
    "gaiascale_data"
   ]
  },
  {
   "cell_type": "code",
   "execution_count": 4,
   "id": "e5fee383-88dd-40cf-a3dc-e43f205d178b",
   "metadata": {},
   "outputs": [
    {
     "data": {
      "image/png": "[encoded data removed]",
      "text/plain": [
       "<Figure size 500x500 with 1 Axes>"
      ]
     },
     "metadata": {},
     "output_type": "display_data"
    }
   ],
   "source": [
    "fig, ax1 = plt.subplots(1, 1, figsize=(5, 5))\n",
    "\n",
    "fMC = gaiascale_data['Field'].str.contains('MC') \n",
    "fDisk = gaiascale_data['Field'].str.contains('SPLUS-d') \n",
    "fMain = ~(fMC | fDisk)\n",
    "\n",
    "zp_gaiascale = gaiascale_data['ZP_gaiascale']\n",
    "\n",
    "kde1 = gaussian_kde(zp_gaiascale[fMC])\n",
    "x_vals1 = np.linspace(-0.1, 0.1, 1000)\n",
    "y_vals1 = fMC.sum()*kde1(x_vals1)\n",
    "ax1.fill_between(x_vals1, y_vals1, color = \"#AA0088\", label=f'MC', lw = 2, alpha = 0.3, zorder = 1)\n",
    "\n",
    "kde2 = gaussian_kde(zp_gaiascale[fDisk])\n",
    "x_vals2 = np.linspace(-0.1, 0.1, 1000)\n",
    "y_vals2 = fDisk.sum()*kde2(x_vals2)\n",
    "ax1.fill_between(x_vals2, y_vals2, color = \"#008800\", label=f'Disk', lw = 2, alpha = 0.3, zorder = 2)\n",
    "\n",
    "kde3 = gaussian_kde(zp_gaiascale[fMain])\n",
    "x_vals3 = np.linspace(-0.1, 0.1, 1000)\n",
    "y_vals3 = fMain.sum()*kde3(x_vals3)\n",
    "ax1.fill_between(x_vals3, y_vals3, color = \"#0000CC\", label=f'Main', lw = 2, alpha = 0.3, zorder = 1)\n",
    "\n",
    "ax1.legend(loc=2)\n",
    "ax1.set_xlim(-0.1, 0.1)\n",
    "ax1.set_ylim(0, 130000)\n",
    "ax1.minorticks_on()\n",
    "ax1.grid(axis=\"x\", color = \"#666666\", alpha = 0.2)\n",
    "ax1.grid(which=\"minor\", axis=\"x\", color = \"#666666\", alpha = 0.05)\n"
   ]
  },
  {
   "cell_type": "code",
   "execution_count": 10,
   "id": "f3ebf524-1157-472f-8c1d-66159af85f42",
   "metadata": {},
   "outputs": [
    {
     "data": {
      "image/png": "[encoded data removed]",
      "text/plain": [
       "<Figure size 500x300 with 1 Axes>"
      ]
     },
     "metadata": {},
     "output_type": "display_data"
    }
   ],
   "source": [
    "fig, ax1 = plt.subplots(1, 1, figsize=(5, 3))\n",
    "\n",
    "fMC = gaiascale_data['Field'].str.contains('MC') \n",
    "fDisk = gaiascale_data['Field'].str.contains('SPLUS-d') \n",
    "fMain = ~(fMC | fDisk)\n",
    "\n",
    "zp_gaiascale = 1000*gaiascale_data['ZP_gaiascale']\n",
    "\n",
    "ax1.hist(zp_gaiascale[fMC], bins=np.arange(-100, 100 + 1, 5), color = \"#AA0088\", label=f'MC', lw = 2, alpha = 0.3, zorder = 3)\n",
    "ax1.hist(zp_gaiascale[fMC], bins=np.arange(-100, 100 + 1, 5), histtype = 'step', color = \"#AA0088\", lw = 2, alpha = 0.5, zorder = 3)\n",
    "\n",
    "ax1.hist(zp_gaiascale[fDisk], bins=np.arange(-100, 100 + 1, 5), color = \"#008800\", label=f'Disk', lw = 2, alpha = 0.3, zorder = 1)\n",
    "ax1.hist(zp_gaiascale[fDisk], bins=np.arange(-100, 100 + 1, 5), histtype = 'step', color = \"#008800\", lw = 2, alpha = 0.5, zorder = 1)\n",
    "\n",
    "ax1.hist(zp_gaiascale[fMain], bins=np.arange(-100, 100 + 1, 5), color = \"#0000CC\", label=f'Main', lw = 2, alpha = 0.3, zorder = 1)\n",
    "ax1.hist(zp_gaiascale[fMain], bins=np.arange(-100, 100 + 1, 5), histtype = 'step', color = \"#0000CC\", lw = 2, alpha = 0.5, zorder = 1)\n",
    "\n",
    "ax1.plot([0,0],[0,550], color = \"#000000\", ls = \"--\", zorder = 0, alpha = 0.5)\n",
    "\n",
    "ax1.legend(loc=2)\n",
    "ax1.set_xlim(-90, 40)\n",
    "ax1.set_ylim(0, 550)\n",
    "ax1.set_ylabel(\"# of fields\")\n",
    "ax1.set_xlabel(\"Gaia-scale corrections [mmags]\")\n",
    "\n",
    "ax1.minorticks_on()\n",
    "#ax1.grid(color = \"#666666\", alpha = 0.2)\n",
    "#ax1.grid(which=\"minor\", axis=\"x\", color = \"#666666\", alpha = 0.05)\n",
    "\n",
    "plt.tight_layout()\n",
    "plt.savefig(\"gaiascale_correction_v3.png\", dpi=300)\n",
    "plt.show()"
   ]
  },
  {
   "cell_type": "code",
   "execution_count": 97,
   "id": "a8b0bf30-30fa-4820-8274-dcc05fc45fc8",
   "metadata": {},
   "outputs": [
    {
     "name": "stdout",
     "output_type": "stream",
     "text": [
      "MC\n",
      "mean: -40.0 mmags\n",
      "sdev: 6.8 mmags\n",
      "\n",
      "Disk\n",
      "mean: -59.4 mmags\n",
      "sdev: 14.4 mmags\n",
      "\n",
      "Main\n",
      "mean: 17.3 mmags\n",
      "sdev: 6.8 mmags\n",
      "\n"
     ]
    }
   ],
   "source": [
    "print(\"MC\")\n",
    "print(f\"mean: {np.nanmean(zp_gaiascale[fMC]):.1f} mmags\")\n",
    "print(f\"sdev: {np.nanstd(zp_gaiascale[fMC]):.1f} mmags\")\n",
    "print(\"\")\n",
    "print(\"Disk\")\n",
    "print(f\"mean: {np.nanmean(zp_gaiascale[fDisk]):.1f} mmags\")\n",
    "print(f\"sdev: {np.nanstd(zp_gaiascale[fDisk]):.1f} mmags\")\n",
    "print(\"\")\n",
    "print(\"Main\")\n",
    "print(f\"mean: {np.nanmean(zp_gaiascale[fMain]):.1f} mmags\")\n",
    "print(f\"sdev: {np.nanstd(zp_gaiascale[fMain]):.1f} mmags\")\n",
    "print(\"\")"
   ]
  },
  {
   "cell_type": "code",
   "execution_count": null,
   "id": "dda665a2-9417-4fbd-ba43-1654fa87d5d1",
   "metadata": {},
   "outputs": [],
   "source": []
  }
 ],
 "metadata": {
  "kernelspec": {
   "display_name": "MetalPoor",
   "language": "python",
   "name": "metalpoor"
  },
  "language_info": {
   "codemirror_mode": {
    "name": "ipython",
    "version": 3
   },
   "file_extension": ".py",
   "mimetype": "text/x-python",
   "name": "python",
   "nbconvert_exporter": "python",
   "pygments_lexer": "ipython3",
   "version": "3.10.6"
  }
 },
 "nbformat": 4,
 "nbformat_minor": 5
}
